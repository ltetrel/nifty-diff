{
 "cells": [
  {
   "cell_type": "code",
   "execution_count": 1,
   "metadata": {},
   "outputs": [],
   "source": [
    "import os\n",
    "import numpy as np\n",
    "import matplotlib.pyplot as plt\n",
    "import nilearn.input_data\n",
    "import nilearn.plotting\n",
    "import nilearn.datasets\n",
    "import nilearn.input_data"
   ]
  },
  {
   "cell_type": "code",
   "execution_count": 2,
   "metadata": {},
   "outputs": [],
   "source": [
    "brain_mask = nilearn.datasets.load_mni152_brain_mask()\n",
    "masker = nilearn.input_data.NiftiMasker(mask_img=brain_mask, standardize=True)\n",
    "data_dir = \"../data/nifti-diff\""
   ]
  },
  {
   "cell_type": "code",
   "execution_count": 3,
   "metadata": {},
   "outputs": [],
   "source": [
    "# loading data\n",
    "fmri_filename = \"ses-vid001_task-video_run-01_bold.nii.gz\"\n",
    "\n",
    "fmri_1_masked = masker.fit_transform(os.path.join(data_dir, fmri_filename))\n",
    "fmri_1_arr = nilearn.image.load_img(os.path.join(data_dir, fmri_filename))\n",
    "fmri_1_arr = nilearn.image.get_data(fmri_1_arr)"
   ]
  },
  {
   "cell_type": "code",
   "execution_count": 4,
   "metadata": {},
   "outputs": [],
   "source": [
    "# simulated another data (here noise is not the same for masked and raw volumes, but it is just a test)\n",
    "fmri_2_masked = fmri_1_masked + np.random.normal(size=fmri_1_masked.shape)\n",
    "fmri_2_arr = fmri_1_arr + np.random.normal(size=fmri_1_arr.shape)"
   ]
  },
  {
   "cell_type": "code",
   "execution_count": 5,
   "metadata": {},
   "outputs": [],
   "source": [
    "### raw pixels differences\n",
    "pixel_diff = fmri_1_masked - fmri_2_masked"
   ]
  },
  {
   "cell_type": "code",
   "execution_count": 6,
   "metadata": {},
   "outputs": [
    {
     "data": {
      "image/png": "[encoded data removed]",
      "text/plain": [
       "<Figure size 432x288 with 1 Axes>"
      ]
     },
     "metadata": {
      "needs_background": "light"
     },
     "output_type": "display_data"
    }
   ],
   "source": [
    "# histogram report\n",
    "plt.figure()\n",
    "plt.hist(pixel_diff.flatten(), bins=20, density=True)\n",
    "plt.title(\"Distribution of the pixel differences for two f-mri images\")\n",
    "plt.xlabel(\"Pixel difference\")\n",
    "plt.savefig(\"distribution.png\")\n",
    "plt.show()"
   ]
  },
  {
   "cell_type": "code",
   "execution_count": 7,
   "metadata": {},
   "outputs": [],
   "source": [
    "### volume pixel differences\n",
    "\n",
    "# to reduce memory usage, we loop to all epi data\n",
    "n_epi = fmri_1_arr.shape[-1]\n",
    "volume_diff_np = np.zeros(shape=fmri_1_arr.shape[:-1], dtype=np.float32)\n",
    "\n",
    "for t in range(n_epi):\n",
    "    volume_diff_np = volume_diff_np + np.abs(fmri_1_arr[..., t] - fmri_2_arr[..., t])\n",
    "\n",
    "# normalize\n",
    "volume_diff_np = (volume_diff_np - np.mean(volume_diff_np) + 1e-9) / (np.std(volume_diff_np) +  1e-9)"
   ]
  },
  {
   "cell_type": "code",
   "execution_count": 8,
   "metadata": {},
   "outputs": [
    {
     "data": {
      "text/html": [
       "\n",
       "        <iframe\n",
       "            width=\"700\"\n",
       "            height=\"600\"\n",
       "            src=\"./volume_noise.html\"\n",
       "            frameborder=\"0\"\n",
       "            allowfullscreen\n",
       "        ></iframe>\n",
       "        "
      ],
      "text/plain": [
       "<IPython.lib.display.IFrame at 0x7fa7e4e134e0>"
      ]
     },
     "execution_count": 8,
     "metadata": {},
     "output_type": "execute_result"
    }
   ],
   "source": [
    "# Viewing data\n",
    "volume_diff = nilearn.image.new_img_like(ref_niimg=nilearn.datasets.MNI152_FILE_PATH, data=volume_diff_np)\n",
    "html_view = nilearn.plotting.view_img(volume_diff, threshold=0.5, vmax=10, cut_coords=[-42, -16, 52], title=\"Pixel difference\")\n",
    "html_view.save_as_html('volume_noise.html')\n",
    "\n",
    "from IPython.display import IFrame\n",
    "IFrame(src='volume_noise.html', width=700, height=600)"
   ]
  },
  {
   "cell_type": "code",
   "execution_count": null,
   "metadata": {},
   "outputs": [],
   "source": []
  }
 ],
 "metadata": {
  "kernelspec": {
   "display_name": "Python 3",
   "language": "python",
   "name": "python3"
  },
  "language_info": {
   "codemirror_mode": {
    "name": "ipython",
    "version": 3
   },
   "file_extension": ".py",
   "mimetype": "text/x-python",
   "name": "python",
   "nbconvert_exporter": "python",
   "pygments_lexer": "ipython3",
   "version": "3.6.9"
  }
 },
 "nbformat": 4,
 "nbformat_minor": 2
}
